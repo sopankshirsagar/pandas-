{
 "cells": [
  {
   "cell_type": "markdown",
   "id": "65f4f443",
   "metadata": {},
   "source": [
    "## creating csv file"
   ]
  },
  {
   "cell_type": "code",
   "execution_count": 2,
   "id": "e24f70ad",
   "metadata": {},
   "outputs": [],
   "source": [
    "person={\"fname\":\"sopan\",\"lname\":\"kshirsagar\",\n",
    "        \"email\":\"sopankshirsagar2611@gmail.com\"}    # python simple dictionary "
   ]
  },
  {
   "cell_type": "code",
   "execution_count": 3,
   "id": "9a286e70",
   "metadata": {},
   "outputs": [],
   "source": [
    "people={\"fname\":[\"sopan\",\"rushi\",\"vishal\"],\n",
    "       \"lname\":[\"kshirsagar\",\"salunkhe\",\"shinde\"],\n",
    "       \"email\":[\"sopan@gmail\",\"rushi@gmail\",\"vishal@gmail\"]}    # dictionary with multiple values "
   ]
  },
  {
   "cell_type": "code",
   "execution_count": 4,
   "id": "f0fee59c",
   "metadata": {},
   "outputs": [
    {
     "name": "stdout",
     "output_type": "stream",
     "text": [
      "['kshirsagar', 'salunkhe', 'shinde']\n"
     ]
    }
   ],
   "source": [
    "print(people['lname'])"
   ]
  },
  {
   "cell_type": "code",
   "execution_count": 5,
   "id": "1f8c1613",
   "metadata": {},
   "outputs": [],
   "source": [
    "import pandas as pd "
   ]
  },
  {
   "cell_type": "code",
   "execution_count": 6,
   "id": "722b6ab7",
   "metadata": {},
   "outputs": [],
   "source": [
    "df=pd.DataFrame(people)"
   ]
  },
  {
   "cell_type": "code",
   "execution_count": 7,
   "id": "caf322ff",
   "metadata": {},
   "outputs": [
    {
     "data": {
      "text/html": [
       "<div>\n",
       "<style scoped>\n",
       "    .dataframe tbody tr th:only-of-type {\n",
       "        vertical-align: middle;\n",
       "    }\n",
       "\n",
       "    .dataframe tbody tr th {\n",
       "        vertical-align: top;\n",
       "    }\n",
       "\n",
       "    .dataframe thead th {\n",
       "        text-align: right;\n",
       "    }\n",
       "</style>\n",
       "<table border=\"1\" class=\"dataframe\">\n",
       "  <thead>\n",
       "    <tr style=\"text-align: right;\">\n",
       "      <th></th>\n",
       "      <th>fname</th>\n",
       "      <th>lname</th>\n",
       "      <th>email</th>\n",
       "    </tr>\n",
       "  </thead>\n",
       "  <tbody>\n",
       "    <tr>\n",
       "      <th>0</th>\n",
       "      <td>sopan</td>\n",
       "      <td>kshirsagar</td>\n",
       "      <td>sopan@gmail</td>\n",
       "    </tr>\n",
       "    <tr>\n",
       "      <th>1</th>\n",
       "      <td>rushi</td>\n",
       "      <td>salunkhe</td>\n",
       "      <td>rushi@gmail</td>\n",
       "    </tr>\n",
       "    <tr>\n",
       "      <th>2</th>\n",
       "      <td>vishal</td>\n",
       "      <td>shinde</td>\n",
       "      <td>vishal@gmail</td>\n",
       "    </tr>\n",
       "  </tbody>\n",
       "</table>\n",
       "</div>"
      ],
      "text/plain": [
       "    fname       lname         email\n",
       "0   sopan  kshirsagar   sopan@gmail\n",
       "1   rushi    salunkhe   rushi@gmail\n",
       "2  vishal      shinde  vishal@gmail"
      ]
     },
     "execution_count": 7,
     "metadata": {},
     "output_type": "execute_result"
    }
   ],
   "source": [
    "df"
   ]
  },
  {
   "cell_type": "code",
   "execution_count": 8,
   "id": "926693b2",
   "metadata": {},
   "outputs": [
    {
     "data": {
      "text/plain": [
       "0     sopan@gmail\n",
       "1     rushi@gmail\n",
       "2    vishal@gmail\n",
       "Name: email, dtype: object"
      ]
     },
     "execution_count": 8,
     "metadata": {},
     "output_type": "execute_result"
    }
   ],
   "source": [
    "df['email']"
   ]
  },
  {
   "cell_type": "code",
   "execution_count": 9,
   "id": "99cc5b12",
   "metadata": {},
   "outputs": [
    {
     "data": {
      "text/plain": [
       "pandas.core.series.Series"
      ]
     },
     "execution_count": 9,
     "metadata": {},
     "output_type": "execute_result"
    }
   ],
   "source": [
    "type(df['email']) # output series means rows or array or 1D"
   ]
  },
  {
   "cell_type": "code",
   "execution_count": 10,
   "id": "b6e54c38",
   "metadata": {},
   "outputs": [
    {
     "data": {
      "text/plain": [
       "0     sopan@gmail\n",
       "1     rushi@gmail\n",
       "2    vishal@gmail\n",
       "Name: email, dtype: object"
      ]
     },
     "execution_count": 10,
     "metadata": {},
     "output_type": "execute_result"
    }
   ],
   "source": [
    "df.email"
   ]
  },
  {
   "cell_type": "code",
   "execution_count": 11,
   "id": "38784ed3",
   "metadata": {},
   "outputs": [
    {
     "data": {
      "text/html": [
       "<div>\n",
       "<style scoped>\n",
       "    .dataframe tbody tr th:only-of-type {\n",
       "        vertical-align: middle;\n",
       "    }\n",
       "\n",
       "    .dataframe tbody tr th {\n",
       "        vertical-align: top;\n",
       "    }\n",
       "\n",
       "    .dataframe thead th {\n",
       "        text-align: right;\n",
       "    }\n",
       "</style>\n",
       "<table border=\"1\" class=\"dataframe\">\n",
       "  <thead>\n",
       "    <tr style=\"text-align: right;\">\n",
       "      <th></th>\n",
       "      <th>lname</th>\n",
       "      <th>email</th>\n",
       "    </tr>\n",
       "  </thead>\n",
       "  <tbody>\n",
       "    <tr>\n",
       "      <th>0</th>\n",
       "      <td>kshirsagar</td>\n",
       "      <td>sopan@gmail</td>\n",
       "    </tr>\n",
       "    <tr>\n",
       "      <th>1</th>\n",
       "      <td>salunkhe</td>\n",
       "      <td>rushi@gmail</td>\n",
       "    </tr>\n",
       "    <tr>\n",
       "      <th>2</th>\n",
       "      <td>shinde</td>\n",
       "      <td>vishal@gmail</td>\n",
       "    </tr>\n",
       "  </tbody>\n",
       "</table>\n",
       "</div>"
      ],
      "text/plain": [
       "        lname         email\n",
       "0  kshirsagar   sopan@gmail\n",
       "1    salunkhe   rushi@gmail\n",
       "2      shinde  vishal@gmail"
      ]
     },
     "execution_count": 11,
     "metadata": {},
     "output_type": "execute_result"
    }
   ],
   "source": [
    "df[['lname','email']]"
   ]
  },
  {
   "cell_type": "code",
   "execution_count": 12,
   "id": "5cdc74aa",
   "metadata": {},
   "outputs": [
    {
     "data": {
      "text/plain": [
       "Index(['fname', 'lname', 'email'], dtype='object')"
      ]
     },
     "execution_count": 12,
     "metadata": {},
     "output_type": "execute_result"
    }
   ],
   "source": [
    "df.columns  # displays columns only "
   ]
  },
  {
   "cell_type": "code",
   "execution_count": 13,
   "id": "1a85e38f",
   "metadata": {},
   "outputs": [
    {
     "data": {
      "text/plain": [
       "fname          sopan\n",
       "lname     kshirsagar\n",
       "email    sopan@gmail\n",
       "Name: 0, dtype: object"
      ]
     },
     "execution_count": 13,
     "metadata": {},
     "output_type": "execute_result"
    }
   ],
   "source": [
    "df.iloc[0] # iloc display rows integer wise (accept only integer )"
   ]
  },
  {
   "cell_type": "code",
   "execution_count": 18,
   "id": "a3ecd2c5",
   "metadata": {},
   "outputs": [
    {
     "data": {
      "text/html": [
       "<div>\n",
       "<style scoped>\n",
       "    .dataframe tbody tr th:only-of-type {\n",
       "        vertical-align: middle;\n",
       "    }\n",
       "\n",
       "    .dataframe tbody tr th {\n",
       "        vertical-align: top;\n",
       "    }\n",
       "\n",
       "    .dataframe thead th {\n",
       "        text-align: right;\n",
       "    }\n",
       "</style>\n",
       "<table border=\"1\" class=\"dataframe\">\n",
       "  <thead>\n",
       "    <tr style=\"text-align: right;\">\n",
       "      <th></th>\n",
       "      <th>fname</th>\n",
       "      <th>lname</th>\n",
       "      <th>email</th>\n",
       "    </tr>\n",
       "  </thead>\n",
       "  <tbody>\n",
       "    <tr>\n",
       "      <th>0</th>\n",
       "      <td>sopan</td>\n",
       "      <td>kshirsagar</td>\n",
       "      <td>sopan@gmail</td>\n",
       "    </tr>\n",
       "    <tr>\n",
       "      <th>2</th>\n",
       "      <td>vishal</td>\n",
       "      <td>shinde</td>\n",
       "      <td>vishal@gmail</td>\n",
       "    </tr>\n",
       "  </tbody>\n",
       "</table>\n",
       "</div>"
      ],
      "text/plain": [
       "    fname       lname         email\n",
       "0   sopan  kshirsagar   sopan@gmail\n",
       "2  vishal      shinde  vishal@gmail"
      ]
     },
     "execution_count": 18,
     "metadata": {},
     "output_type": "execute_result"
    }
   ],
   "source": [
    "df.iloc[[0,2]]   #in parameter we can gives number only int "
   ]
  },
  {
   "cell_type": "code",
   "execution_count": 19,
   "id": "851bbbaa",
   "metadata": {},
   "outputs": [
    {
     "data": {
      "text/html": [
       "<div>\n",
       "<style scoped>\n",
       "    .dataframe tbody tr th:only-of-type {\n",
       "        vertical-align: middle;\n",
       "    }\n",
       "\n",
       "    .dataframe tbody tr th {\n",
       "        vertical-align: top;\n",
       "    }\n",
       "\n",
       "    .dataframe thead th {\n",
       "        text-align: right;\n",
       "    }\n",
       "</style>\n",
       "<table border=\"1\" class=\"dataframe\">\n",
       "  <thead>\n",
       "    <tr style=\"text-align: right;\">\n",
       "      <th></th>\n",
       "      <th>email</th>\n",
       "      <th>lname</th>\n",
       "    </tr>\n",
       "  </thead>\n",
       "  <tbody>\n",
       "    <tr>\n",
       "      <th>0</th>\n",
       "      <td>sopan@gmail</td>\n",
       "      <td>kshirsagar</td>\n",
       "    </tr>\n",
       "    <tr>\n",
       "      <th>1</th>\n",
       "      <td>rushi@gmail</td>\n",
       "      <td>salunkhe</td>\n",
       "    </tr>\n",
       "  </tbody>\n",
       "</table>\n",
       "</div>"
      ],
      "text/plain": [
       "         email       lname\n",
       "0  sopan@gmail  kshirsagar\n",
       "1  rushi@gmail    salunkhe"
      ]
     },
     "execution_count": 19,
     "metadata": {},
     "output_type": "execute_result"
    }
   ],
   "source": [
    "df.loc[[0,1],['email','lname']]  #in parameters takes string only "
   ]
  },
  {
   "cell_type": "code",
   "execution_count": 20,
   "id": "25d0a703",
   "metadata": {},
   "outputs": [
    {
     "data": {
      "text/plain": [
       "(3, 3)"
      ]
     },
     "execution_count": 20,
     "metadata": {},
     "output_type": "execute_result"
    }
   ],
   "source": [
    "df.shape"
   ]
  },
  {
   "cell_type": "code",
   "execution_count": 21,
   "id": "5874e7c2",
   "metadata": {},
   "outputs": [
    {
     "data": {
      "text/plain": [
       "0     sopan@gmail\n",
       "1     rushi@gmail\n",
       "2    vishal@gmail\n",
       "Name: email, dtype: object"
      ]
     },
     "execution_count": 21,
     "metadata": {},
     "output_type": "execute_result"
    }
   ],
   "source": [
    "df['email']"
   ]
  },
  {
   "cell_type": "code",
   "execution_count": 22,
   "id": "8ebd617c",
   "metadata": {},
   "outputs": [],
   "source": [
    "df.set_index('email',inplace=True)  # make the index and update the original dataset "
   ]
  },
  {
   "cell_type": "code",
   "execution_count": 23,
   "id": "d081be8c",
   "metadata": {},
   "outputs": [
    {
     "data": {
      "text/html": [
       "<div>\n",
       "<style scoped>\n",
       "    .dataframe tbody tr th:only-of-type {\n",
       "        vertical-align: middle;\n",
       "    }\n",
       "\n",
       "    .dataframe tbody tr th {\n",
       "        vertical-align: top;\n",
       "    }\n",
       "\n",
       "    .dataframe thead th {\n",
       "        text-align: right;\n",
       "    }\n",
       "</style>\n",
       "<table border=\"1\" class=\"dataframe\">\n",
       "  <thead>\n",
       "    <tr style=\"text-align: right;\">\n",
       "      <th></th>\n",
       "      <th>fname</th>\n",
       "      <th>lname</th>\n",
       "    </tr>\n",
       "    <tr>\n",
       "      <th>email</th>\n",
       "      <th></th>\n",
       "      <th></th>\n",
       "    </tr>\n",
       "  </thead>\n",
       "  <tbody>\n",
       "    <tr>\n",
       "      <th>sopan@gmail</th>\n",
       "      <td>sopan</td>\n",
       "      <td>kshirsagar</td>\n",
       "    </tr>\n",
       "    <tr>\n",
       "      <th>rushi@gmail</th>\n",
       "      <td>rushi</td>\n",
       "      <td>salunkhe</td>\n",
       "    </tr>\n",
       "    <tr>\n",
       "      <th>vishal@gmail</th>\n",
       "      <td>vishal</td>\n",
       "      <td>shinde</td>\n",
       "    </tr>\n",
       "  </tbody>\n",
       "</table>\n",
       "</div>"
      ],
      "text/plain": [
       "               fname       lname\n",
       "email                           \n",
       "sopan@gmail    sopan  kshirsagar\n",
       "rushi@gmail    rushi    salunkhe\n",
       "vishal@gmail  vishal      shinde"
      ]
     },
     "execution_count": 23,
     "metadata": {},
     "output_type": "execute_result"
    }
   ],
   "source": [
    "df"
   ]
  },
  {
   "cell_type": "code",
   "execution_count": 24,
   "id": "e942bfff",
   "metadata": {},
   "outputs": [
    {
     "data": {
      "text/plain": [
       "Index(['sopan@gmail', 'rushi@gmail', 'vishal@gmail'], dtype='object', name='email')"
      ]
     },
     "execution_count": 24,
     "metadata": {},
     "output_type": "execute_result"
    }
   ],
   "source": [
    "df.index"
   ]
  },
  {
   "cell_type": "code",
   "execution_count": 25,
   "id": "79551e6d",
   "metadata": {},
   "outputs": [
    {
     "data": {
      "text/plain": [
       "'salunkhe'"
      ]
     },
     "execution_count": 25,
     "metadata": {},
     "output_type": "execute_result"
    }
   ],
   "source": [
    "df.loc['rushi@gmail','lname']  "
   ]
  },
  {
   "cell_type": "code",
   "execution_count": 26,
   "id": "969cc051",
   "metadata": {},
   "outputs": [
    {
     "data": {
      "text/plain": [
       "fname         sopan\n",
       "lname    kshirsagar\n",
       "Name: sopan@gmail, dtype: object"
      ]
     },
     "execution_count": 26,
     "metadata": {},
     "output_type": "execute_result"
    }
   ],
   "source": [
    "df.iloc[0]"
   ]
  },
  {
   "cell_type": "code",
   "execution_count": null,
   "id": "6f75b41a",
   "metadata": {},
   "outputs": [],
   "source": [
    "df.reset_index(inplace=True)\n",
    "df"
   ]
  },
  {
   "cell_type": "code",
   "execution_count": null,
   "id": "1cb5b517",
   "metadata": {},
   "outputs": [],
   "source": []
  }
 ],
 "metadata": {
  "kernelspec": {
   "display_name": "Python 3 (ipykernel)",
   "language": "python",
   "name": "python3"
  },
  "language_info": {
   "codemirror_mode": {
    "name": "ipython",
    "version": 3
   },
   "file_extension": ".py",
   "mimetype": "text/x-python",
   "name": "python",
   "nbconvert_exporter": "python",
   "pygments_lexer": "ipython3",
   "version": "3.10.7"
  }
 },
 "nbformat": 4,
 "nbformat_minor": 5
}
